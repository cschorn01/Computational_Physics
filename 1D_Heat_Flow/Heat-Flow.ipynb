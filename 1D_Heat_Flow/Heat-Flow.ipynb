{
 "cells": [
  {
   "cell_type": "markdown",
   "metadata": {
    "slideshow": {
     "slide_type": "slide"
    }
   },
   "source": [
    "# Heat Flow Dynamics in a 1-Dimensional Rod"
   ]
  },
  {
   "cell_type": "code",
   "execution_count": 1,
   "metadata": {
    "slideshow": {
     "slide_type": "skip"
    }
   },
   "outputs": [],
   "source": [
    "import numpy as np\n",
    "import matplotlib.pyplot as plt\n",
    "import ode\n",
    "from scipy.optimize import curve_fit\n",
    "from scipy.linalg import eigh"
   ]
  },
  {
   "cell_type": "markdown",
   "metadata": {
    "slideshow": {
     "slide_type": "slide"
    }
   },
   "source": [
    "For my final project I chose to do the exercises in Dr. Engelhardt's paper *Heat Flow -- Dynamics of a 1D Rod*.  The paper begins with the two equations that involve heat transfer from an introductory physics course\n",
    "\n",
    "$$\\frac{Q}{\\Delta t} = -k_tA\\frac{\\Delta T^{time}}{\\Delta x}$$\n",
    "\n",
    "$$Q = mc\\Delta T $$"
   ]
  },
  {
   "cell_type": "markdown",
   "metadata": {
    "slideshow": {
     "slide_type": "skip"
    }
   },
   "source": [
    "which are combined.  In these equations $k_t$ is the thermal conductivity of a material, A is the cross sectional area, $\\Delta T^time$ is the change in temperature beween two moments in time, m is the mass, c is the specific heat of the material, and $\\frac{\\Delta T_{Space}}{\\Delta x}$ is the temperature gradient between two points that are separated by a distance $\\Delta x$. The first equation describes the rate that energy flows into the system as a function of the temperature difference between the system and its surroundings, and the second equation describes the change in thermal energy of the system.  A system in this case would be a single slice of the rod, to be described below."
   ]
  },
  {
   "cell_type": "markdown",
   "metadata": {
    "slideshow": {
     "slide_type": "slide"
    }
   },
   "source": [
    "Instead of a infinitessimally small differentials, the equations used for this project were solved using a finite difference method. To do so I had to discretize the rod.  "
   ]
  },
  {
   "cell_type": "markdown",
   "metadata": {
    "slideshow": {
     "slide_type": "skip"
    }
   },
   "source": [
    "\n",
    "In the cell below I create the rod using 1-dimensional arrays of x-values, and t-values.  Then create a 2-Dimensional array to hold the temperature values for each slice of the rod during each time step.  Finally adding an inital temperature to the entire rod, and heating the first slice as if if was connected to a pan using a hyperbolic tangent function."
   ]
  },
  {
   "cell_type": "code",
   "execution_count": 4,
   "metadata": {
    "slideshow": {
     "slide_type": "slide"
    }
   },
   "outputs": [],
   "source": [
    "#Creating 1D array for x-position\n",
    "L  = 0.20\n",
    "Nx = 80\n",
    "dx  = L/Nx\n",
    "x = np.linspace(0, L, Nx) \n",
    "\n",
    "#Creating 1D array for time\n",
    "tMax = 600 \n",
    "Nt = 10000\n",
    "dt  = tMax/Nt\n",
    "t = np.linspace(0, tMax, Nt) \n",
    "\n",
    "#Creating 2D array for temperature based on x and t\n",
    "T = np.zeros((Nt,Nx))\n",
    "T0 = 20\n",
    "Tstove = 150\n",
    "T[0,:] = T0\n",
    "T[:,0] = T0 + Tstove * np.tanh(t/50)"
   ]
  },
  {
   "cell_type": "markdown",
   "metadata": {
    "slideshow": {
     "slide_type": "skip"
    }
   },
   "source": [
    "The combination of the first two equations results in "
   ]
  },
  {
   "cell_type": "markdown",
   "metadata": {
    "slideshow": {
     "slide_type": "slide"
    }
   },
   "source": [
    "$$Q = -(\\frac{k_tA \\Delta t}{\\Delta x}) \\Delta T_{Space} $$"
   ]
  },
  {
   "cell_type": "markdown",
   "metadata": {
    "slideshow": {
     "slide_type": "fragment"
    }
   },
   "source": [
    "With $\\Delta T_{right} = T_{i+1}-T_i$ and $\\Delta T_{Left} = T_i-T_{i-1}$. Then replacing $T_{space}$ with $T_{left}$, we get "
   ]
  },
  {
   "cell_type": "markdown",
   "metadata": {
    "slideshow": {
     "slide_type": "fragment"
    }
   },
   "source": [
    "$$Q = Q_{Left} + Q_{Right} $$"
   ]
  },
  {
   "cell_type": "markdown",
   "metadata": {
    "slideshow": {
     "slide_type": "skip"
    }
   },
   "source": [
    "Then subsituting in the equation above for Q we get"
   ]
  },
  {
   "cell_type": "markdown",
   "metadata": {
    "slideshow": {
     "slide_type": "slide"
    }
   },
   "source": [
    "$$Q = -(\\frac{k_tA \\Delta t}{\\Delta x}) (2T_{i}-T_{i-1}-T_{i+1}) $$"
   ]
  },
  {
   "cell_type": "markdown",
   "metadata": {
    "slideshow": {
     "slide_type": "skip"
    }
   },
   "source": [
    "This equation represents the heat flow into one slice of the rod from an adjacent slice. "
   ]
  },
  {
   "cell_type": "markdown",
   "metadata": {
    "slideshow": {
     "slide_type": "fragment"
    }
   },
   "source": [
    "Next I created an equation for heat flow during a time interval.  This comes from $\\Delta T^{Time} = \\frac{Q}{mc}$, and inserting Q in this equation we get"
   ]
  },
  {
   "cell_type": "markdown",
   "metadata": {
    "slideshow": {
     "slide_type": "fragment"
    }
   },
   "source": [
    "$$ \\Delta T_{i}^{Time} = -(\\frac{k_tA \\Delta t}{mc \\Delta x}) (2T_{i}-T_{i-1}-T_{i+1}) $$"
   ]
  },
  {
   "cell_type": "markdown",
   "metadata": {
    "slideshow": {
     "slide_type": "slide"
    }
   },
   "source": [
    "Time then must be discretized as well. So I created a 2-Dimensional array with j being time and i being the slice on the rod."
   ]
  },
  {
   "cell_type": "markdown",
   "metadata": {
    "slideshow": {
     "slide_type": "fragment"
    }
   },
   "source": [
    "$$ \\Delta T_{i}^{j} = T_{i}^{j-1} -(\\frac{k_tA \\Delta t}{mc \\Delta x}) (2T_{i}^{j-1}-T_{i-1}^{j-1}-T_{i+1}^{j-1}) $$"
   ]
  },
  {
   "cell_type": "markdown",
   "metadata": {
    "slideshow": {
     "slide_type": "skip"
    }
   },
   "source": [
    "To make the code easier I made a constant $r = \\frac{k_t\\Delta t}{\\rho c(\\Delta x)^2}$ and solved to make the equation"
   ]
  },
  {
   "cell_type": "markdown",
   "metadata": {
    "slideshow": {
     "slide_type": "fragment"
    }
   },
   "source": [
    "$$ \\Delta T_{i}^{j} = rT_{i-1}^{j-1} +(1-2r)T_{i}^{j-1}+rT_{i+1}^{j-1} $$"
   ]
  },
  {
   "cell_type": "markdown",
   "metadata": {
    "slideshow": {
     "slide_type": "slide"
    }
   },
   "source": [
    "After looping through this equation for the max time I am left with the 2-Dimensional array `T` containing rows that are the timesteps, and columns that are the temperature of each corresponding slice of the rod.  "
   ]
  },
  {
   "cell_type": "code",
   "execution_count": 5,
   "metadata": {
    "slideshow": {
     "slide_type": "fragment"
    }
   },
   "outputs": [],
   "source": [
    "#Values for Steel\n",
    "kt = 16\n",
    "rho = 500\n",
    "c = 8000\n",
    "\n",
    "r = kt*dt/(rho*c*dx**2)\n",
    "\n",
    "for j in range(1, Nt):\n",
    "    for i in range(1, Nx-1): \n",
    "        T[j][i] = r*T[j-1][i-1] + (1 - 2*r)*T[j-1][i] + r*T[j-1][i+1]\n",
    "    T[j, -1] = r*T[j-1][i-1] + (1 - r)*T[j-1][i] # End of rod"
   ]
  },
  {
   "cell_type": "markdown",
   "metadata": {
    "slideshow": {
     "slide_type": "skip"
    }
   },
   "source": [
    "In this cell I graph the position vs temperature.  Each line on the graph is a different time step in the T array.  As time passes the temperature of the entire handle increases.  Eventually the entire handle will be the same temperature as the pan, which is not shown here but could easily be graphed by adding another line that shows the temperature of the handle at the final time step."
   ]
  },
  {
   "cell_type": "code",
   "execution_count": 7,
   "metadata": {
    "slideshow": {
     "slide_type": "slide"
    }
   },
   "outputs": [
    {
     "data": {
      "image/png": "[encoded data removed]",
      "text/plain": [
       "<Figure size 432x288 with 1 Axes>"
      ]
     },
     "metadata": {
      "needs_background": "light"
     },
     "output_type": "display_data"
    }
   ],
   "source": [
    "plt.figure()\n",
    "plt.plot(x,T[1,:], label=\"Time 1\")\n",
    "plt.plot(x,T[50,:], label=\"Time 50\")\n",
    "plt.plot(x,T[100,:], label=\"Time 100\")\n",
    "plt.plot(x,T[500,:], label=\"Time 500\")\n",
    "plt.plot(x,T[5000,:], label=\"Time 5000\")\n",
    "plt.xlabel(\"Position (m)\")\n",
    "plt.ylabel(\"Temperature (Celcius)\")\n",
    "plt.legend()\n",
    "plt.show()"
   ]
  },
  {
   "cell_type": "markdown",
   "metadata": {
    "slideshow": {
     "slide_type": "skip"
    }
   },
   "source": [
    "Below I created a colored mesh grid that displays the termperature of the handle.  On the y-axis is time, and x-axis is position.  The axis are switched from their normal assigment to give a visual representation that is easier to understand.  As time passes, this plot shows that the first few centimeters of the rod are hot, and almost half of the rod has increased in temperature.  If more time was allowed to pass there more be more red towards the top of the plot, showing that more of the handle was heated. "
   ]
  },
  {
   "cell_type": "code",
   "execution_count": 39,
   "metadata": {
    "slideshow": {
     "slide_type": "slide"
    }
   },
   "outputs": [
    {
     "data": {
      "text/plain": [
       "<matplotlib.colorbar.Colorbar at 0x13ed79c390>"
      ]
     },
     "execution_count": 39,
     "metadata": {},
     "output_type": "execute_result"
    },
    {
     "data": {
      "image/png": "[encoded data removed]",
      "text/plain": [
       "<Figure size 432x288 with 2 Axes>"
      ]
     },
     "metadata": {
      "needs_background": "light"
     },
     "output_type": "display_data"
    }
   ],
   "source": [
    "X,Y=np.meshgrid(x,t)\n",
    "plt.pcolor(X,Y,T,cmap='coolwarm')\n",
    "plt.ylabel(\"Time (s)\")\n",
    "plt.xlabel(\"Position (m)\")\n",
    "plt.colorbar()"
   ]
  }
 ],
 "metadata": {
  "kernelspec": {
   "display_name": "Python 3 (ipykernel)",
   "language": "python",
   "name": "python3"
  },
  "language_info": {
   "codemirror_mode": {
    "name": "ipython",
    "version": 3
   },
   "file_extension": ".py",
   "mimetype": "text/x-python",
   "name": "python",
   "nbconvert_exporter": "python",
   "pygments_lexer": "ipython3",
   "version": "3.11.4"
  }
 },
 "nbformat": 4,
 "nbformat_minor": 4
}
