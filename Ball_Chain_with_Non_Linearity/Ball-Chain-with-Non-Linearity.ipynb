{
 "cells": [
  {
   "cell_type": "markdown",
   "metadata": {},
   "source": [
    "# Ball Chain with Non Linearity"
   ]
  },
  {
   "cell_type": "markdown",
   "metadata": {},
   "source": [
    "In the 1950's Enrico Fermi, Stan Ulam, and John Pasta used the MANIAC-1 computer to model a ball spring model with a weak non-linear force component.  They intended to use the model as a method to answer various questions related to irreversible statistical mechanics, but initial studies tested the most widely believed theories of equilibrium statistical mechanics like the equipartition of energy. In this notebook I will repeat their experiment with a quadratic force componen. Information about the model comes from Joseph Ford's paper [The Fermi-Pasta-Ulam Problem: Paradox Turns Discovery](http://www.cbpf.br/~cirto/MecEstNaoExten_HTML/AULAS/Aula_19/Ford_(The_Fermi_Pasta_Ulam_Problem_Paradox_Turns_Discovery)_%5BPhysics_Reports_1992%5D.pdf) "
   ]
  },
  {
   "cell_type": "markdown",
   "metadata": {},
   "source": [
    "If you are interested in reading [Fermi, Pasta, and Ulam's original paper](https://www.osti.gov/servlets/purl/4376203) click on the hyperlink."
   ]
  },
  {
   "cell_type": "code",
   "execution_count": 1,
   "metadata": {
    "scrolled": true
   },
   "outputs": [
    {
     "ename": "ModuleNotFoundError",
     "evalue": "No module named 'numpy'",
     "output_type": "error",
     "traceback": [
      "\u001b[0;31m---------------------------------------------------------------------------\u001b[0m",
      "\u001b[0;31mModuleNotFoundError\u001b[0m                       Traceback (most recent call last)",
      "Cell \u001b[0;32mIn [1], line 1\u001b[0m\n\u001b[0;32m----> 1\u001b[0m \u001b[38;5;28;01mimport\u001b[39;00m \u001b[38;5;21;01mnumpy\u001b[39;00m \u001b[38;5;28;01mas\u001b[39;00m \u001b[38;5;21;01mnp\u001b[39;00m\n\u001b[1;32m      2\u001b[0m \u001b[38;5;28;01mimport\u001b[39;00m \u001b[38;5;21;01mmatplotlib\u001b[39;00m\u001b[38;5;21;01m.\u001b[39;00m\u001b[38;5;21;01mpyplot\u001b[39;00m \u001b[38;5;28;01mas\u001b[39;00m \u001b[38;5;21;01mplt\u001b[39;00m\n\u001b[1;32m      3\u001b[0m \u001b[38;5;28;01mimport\u001b[39;00m \u001b[38;5;21;01mode\u001b[39;00m\n",
      "\u001b[0;31mModuleNotFoundError\u001b[0m: No module named 'numpy'"
     ]
    }
   ],
   "source": [
    "import numpy as np\n",
    "import matplotlib.pyplot as plt\n",
    "import ode\n",
    "from vpython import * #yes, I know I'm not supposed to do this\n",
    "from scipy.linalg import eigh\n",
    "from scipy.linalg import eigh"
   ]
  },
  {
   "cell_type": "markdown",
   "metadata": {},
   "source": [
    "In the cell below I am creating a function that takes in the array 'y0' with the position and velocity of each ball.  It then applies the forces on each ball.  The first two equations are for the balls on the end of the string, and the last on is for the balls in between."
   ]
  },
  {
   "cell_type": "code",
   "execution_count": null,
   "metadata": {},
   "outputs": [],
   "source": [
    "def model_Natoms(y0, t): # y=[u,udot]; function returns derivative\n",
    "    \n",
    "    global N, k, alpha, m\n",
    "    u = y0[0] #array of distances\n",
    "    udot = y0[1] #array of velocities\n",
    "        \n",
    "    uddot = np.zeros(N)\n",
    "    \n",
    "    for i in range(0,N):\n",
    "        if i==0:\n",
    "            uddot[i] = -2*k/m*u[i] + k/m*u[i+1] + alpha*((0.0-u[i])**2-(u[i+1]-u[i])**2)\n",
    "        elif i==N-1:\n",
    "            uddot[i] = k/m*u[i-1] - 2*k/m*u[i] + alpha*((u[i-1]-u[i])**2-(0.0-u[i])**2)\n",
    "        else:\n",
    "            uddot[i] = k/m*u[i-1] -2*k/m*u[i] + k/m*u[i+1] + alpha*((u[i-1]-u[i])**2-(u[i+1]-u[i])**2)\n",
    "            \n",
    "    \n",
    "    return np.array([udot, uddot])"
   ]
  },
  {
   "cell_type": "markdown",
   "metadata": {},
   "source": [
    "This cell contains a function that iterates through each timestep using the RK45 integrator. To begin in the first normal mode and return to it this cell runs through 400,000 time steps.  It returns both the positions and velocity of each ball at each time step."
   ]
  },
  {
   "cell_type": "code",
   "execution_count": null,
   "metadata": {},
   "outputs": [],
   "source": [
    "def run_Natoms(Natoms, ks, mass, ui, udoti): \n",
    "    global N, k, m, h, alpha\n",
    "    \n",
    "    N = Natoms\n",
    "    k = ks\n",
    "    alpha = 0.25\n",
    "    m = mass\n",
    "    \n",
    "#    u = ui #array\n",
    "#    udot = udoti #array\n",
    "    \n",
    "    #t_total = 1000*np.pi\n",
    "    t = 0\n",
    "    #L=14\n",
    "    Npoints=400000\n",
    "    h = 0.03\n",
    "    t_total = h*Npoints\n",
    "    \n",
    "    #lists\n",
    "    ta = []\n",
    "    ua = []\n",
    "    udota = []\n",
    "\n",
    "    ta.append(t)\n",
    "    ua.append(ui)\n",
    "    udota.append(udoti)\n",
    "\n",
    "    #vector\n",
    "    y0 = np.array([ui, udoti])\n",
    "    \n",
    "    for i in range(0,Npoints):\n",
    "        \n",
    "        #integrate\n",
    "        y1 = ode.RK45(model_Natoms, y0, t, h) #update y[n]\n",
    "                \n",
    "        for n in range(N):\n",
    "            y0[0][n] = y1[0][n]\n",
    "        for n in range(N):\n",
    "            y0[1][n] = y1[1][n]\n",
    "\n",
    "        t = t + h #update clock\n",
    "        \n",
    "        ta.append(t)\n",
    "        ua.append(y1[0])\n",
    "        udota.append(y1[1])\n",
    "                    \n",
    "    return ta, ua, udota"
   ]
  },
  {
   "cell_type": "markdown",
   "metadata": {},
   "source": [
    "This cell is running the function from above."
   ]
  },
  {
   "cell_type": "code",
   "execution_count": null,
   "metadata": {
    "scrolled": true
   },
   "outputs": [],
   "source": [
    "Natoms=32\n",
    "ks = 1.0\n",
    "mass = 1.0\n",
    "L = 1\n",
    "L0 = L/(Natoms+1)\n",
    "\n",
    "ui = np.zeros(Natoms)\n",
    "udoti = np.zeros(Natoms)\n",
    "\n",
    "for i in range(len(ui)):\n",
    "    ui[i] = 1*np.sin(np.pi*(i+1)*L0)\n",
    "\n",
    "ta, ulist, udotlist = run_Natoms(Natoms,ks,mass,ui,udoti)\n",
    "\n",
    "ua=np.array(ulist)\n",
    "udota = np.array(udotlist)\n",
    "\n",
    "# plt.figure()\n",
    "# plt.title(\"u of first atom\")\n",
    "# plt.plot(ta,ua[:,0], 'b-', label='u_1')\n",
    "# plt.xlabel('t (arb)')\n",
    "# plt.ylabel('u (arb)')\n",
    "# plt.legend(loc='lower right')\n",
    "# plt.show()"
   ]
  },
  {
   "cell_type": "markdown",
   "metadata": {},
   "source": [
    "Here I am using Vpython to animate the ball-spring model.  By iterating through the position array returned from the 'run_Natoms' function I am able to observe the changes in the model."
   ]
  },
  {
   "cell_type": "code",
   "execution_count": 5,
   "metadata": {},
   "outputs": [],
   "source": [
    "def animate(x):\n",
    "    scene=canvas()\n",
    "    scene.background=color.white\n",
    "    \n",
    "    balls=[]\n",
    "    xballs = np.linspace(-L/2+L0,L/2-L0,Natoms)\n",
    "    \n",
    "    ball = sphere(pos=vec(-L/2,0,0), radius=L0/4, color=color.red)\n",
    "    for xb in xballs:\n",
    "        ball = sphere(pos=vec(xb,0,0), radius=L0/4, color=color.red)\n",
    "        balls.append(ball)\n",
    "    ball = sphere(pos=vec(L/2,0,0), radius=L0/4, color=color.red)\n",
    "        \n",
    "    for i in range(len(x[:,0])):\n",
    "        rate(2000)\n",
    "        j=0\n",
    "        while j<Natoms:\n",
    "            balls[j].pos.y = x[i,j] \n",
    "            j = j + 1"
   ]
  },
  {
   "cell_type": "code",
   "execution_count": 6,
   "metadata": {
    "scrolled": false
   },
   "outputs": [
    {
     "data": {
      "text/html": [
       "<div id=\"glowscript\" class=\"glowscript\"></div>"
      ],
      "text/plain": [
       "<IPython.core.display.HTML object>"
      ]
     },
     "metadata": {},
     "output_type": "display_data"
    },
    {
     "data": {
      "application/javascript": [
       "if (typeof Jupyter !== \"undefined\") { window.__context = { glowscript_container: $(\"#glowscript\").removeAttr(\"id\")};}else{ element.textContent = ' ';}"
      ],
      "text/plain": [
       "<IPython.core.display.Javascript object>"
      ]
     },
     "metadata": {},
     "output_type": "display_data"
    }
   ],
   "source": [
    "animate(ua)"
   ]
  },
  {
   "cell_type": "code",
   "execution_count": null,
   "metadata": {},
   "outputs": [],
   "source": []
  }
 ],
 "metadata": {
  "kernelspec": {
   "display_name": "Python 3 (ipykernel)",
   "language": "python",
   "name": "python3"
  },
  "language_info": {
   "codemirror_mode": {
    "name": "ipython",
    "version": 3
   },
   "file_extension": ".py",
   "mimetype": "text/x-python",
   "name": "python",
   "nbconvert_exporter": "python",
   "pygments_lexer": "ipython3",
   "version": "3.9.6"
  }
 },
 "nbformat": 4,
 "nbformat_minor": 2
}
